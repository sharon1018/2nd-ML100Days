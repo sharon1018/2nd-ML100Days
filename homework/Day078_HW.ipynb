{
 "cells": [
  {
   "cell_type": "markdown",
   "metadata": {},
   "source": [
    "## Work\n",
    "1. 請嘗試將 preproc_x 替換成以每筆資料的 min/max 進行標準化至 -1 ~ 1 間，再進行訓練\n",
    "2. 請嘗試將 mlp 疊更深 (e.g 5~10 層)，進行訓練後觀察 learning curve 的走勢\n",
    "3. (optional) 請改用 GPU 進行訓練 (如果你有 GPU 的話)，比較使用 CPU 與 GPU 的訓練速度"
   ]
  },
  {
   "cell_type": "code",
   "execution_count": 1,
   "metadata": {},
   "outputs": [],
   "source": [
    "## \n",
    "\"\"\"\n",
    "Your code here (optional)\n",
    "確認硬體資源\n",
    "\"\"\"\n"
   ]
  },
  {
   "cell_type": "code",
   "execution_count": 9,
   "metadata": {},
   "outputs": [],
   "source": [
    "import os\n",
    "import keras\n",
    "from sklearn.preprocessing import MinMaxScaler\n",
    "\n",
    "# 請嘗試設定 GPU：os.environ\n"
   ]
  },
  {
   "cell_type": "code",
   "execution_count": 10,
   "metadata": {},
   "outputs": [],
   "source": [
    "train, test = keras.datasets.cifar10.load_data()"
   ]
  },
  {
   "cell_type": "code",
   "execution_count": 11,
   "metadata": {},
   "outputs": [],
   "source": [
    "## 資料前處理\n",
    "\"\"\"\n",
    "Your code here\n",
    "\"\"\"\n",
    "def preproc_x(x, flatten=True):\n",
    "    x = x / 255.\n",
    "    if flatten:\n",
    "        x = x.reshape((len(x), -1))\n",
    "    x = MinMaxScaler(feature_range=(-1, 1)).fit_transform(x)\n",
    "    return x\n",
    "\n",
    "def preproc_y(y, num_classes=10):\n",
    "    if y.shape[-1] == 1:\n",
    "        y = keras.utils.to_categorical(y, num_classes)\n",
    "    return y    "
   ]
  },
  {
   "cell_type": "code",
   "execution_count": 12,
   "metadata": {},
   "outputs": [],
   "source": [
    "x_train, y_train = train\n",
    "x_test, y_test = test\n",
    "\n",
    "# Preproc the inputs\n",
    "x_train = preproc_x(x_train)\n",
    "x_test = preproc_x(x_test)\n",
    "\n",
    "# Preprc the outputs\n",
    "y_train = preproc_y(y_train)\n",
    "y_test = preproc_y(y_test)"
   ]
  },
  {
   "cell_type": "code",
   "execution_count": 15,
   "metadata": {},
   "outputs": [],
   "source": [
    "input_shape = x_train.shape[1:]\n",
    "output_units = 10\n",
    "hidden_unit_dict = {1:512,2:256,3:128}"
   ]
  },
  {
   "cell_type": "code",
   "execution_count": 17,
   "metadata": {},
   "outputs": [
    {
     "name": "stdout",
     "output_type": "stream",
     "text": [
      "Model: \"model_1\"\n",
      "_________________________________________________________________\n",
      "Layer (type)                 Output Shape              Param #   \n",
      "=================================================================\n",
      "input_1 (InputLayer)         (None, 3072)              0         \n",
      "_________________________________________________________________\n",
      "hidden_layer1 (Dense)        (None, 512)               1573376   \n",
      "_________________________________________________________________\n",
      "hidden_layer2 (Dense)        (None, 256)               131328    \n",
      "_________________________________________________________________\n",
      "hidden_layer3 (Dense)        (None, 128)               32896     \n",
      "_________________________________________________________________\n",
      "output (Dense)               (None, 10)                1290      \n",
      "=================================================================\n",
      "Total params: 1,738,890\n",
      "Trainable params: 1,738,890\n",
      "Non-trainable params: 0\n",
      "_________________________________________________________________\n"
     ]
    }
   ],
   "source": [
    "\"\"\"Code Here\n",
    "建立你的神經網路\n",
    "\"\"\"\n",
    "def build_mlp(input_shape, output_units, hidden_unit_dict):\n",
    "    # input layer\n",
    "    input_layer = keras.layers.Input(input_shape)\n",
    "    \n",
    "    # hidden layer\n",
    "    for hidden_layer in hidden_unit_dict:\n",
    "        if hidden_layer == 1:\n",
    "            x = keras.layers.Dense(units=hidden_unit_dict[hidden_layer], \n",
    "                                   activation=\"relu\", \n",
    "                                   name=\"hidden_layer\"+str(hidden_layer)\n",
    "                                  )(input_layer)\n",
    "        else:\n",
    "            x = keras.layers.Dense(units=hidden_unit_dict[hidden_layer], \n",
    "                                   activation=\"relu\", \n",
    "                                   name=\"hidden_layer\"+str(hidden_layer)\n",
    "                                  )(x)\n",
    "            \n",
    "    # output layer       \n",
    "    out = keras.layers.Dense(units=output_units, activation=\"softmax\", name=\"output\")(x)\n",
    "    \n",
    "    model = keras.models.Model(inputs=[input_layer], outputs=[out])\n",
    "    return model\n",
    "\n",
    "# build model    \n",
    "model = build_mlp(input_shape, output_units, hidden_unit_dict)\n",
    "model.summary()"
   ]
  },
  {
   "cell_type": "code",
   "execution_count": 18,
   "metadata": {},
   "outputs": [],
   "source": [
    "## 超參數設定\n",
    "LEARNING_RATE = 0.001\n",
    "EPOCHS = 100\n",
    "BATCH_SIZE = 256"
   ]
  },
  {
   "cell_type": "code",
   "execution_count": 19,
   "metadata": {},
   "outputs": [],
   "source": [
    "optimizer = keras.optimizers.Adam(lr=LEARNING_RATE)\n",
    "model.compile(loss=\"categorical_crossentropy\", metrics=[\"accuracy\"], optimizer=optimizer)"
   ]
  },
  {
   "cell_type": "code",
   "execution_count": null,
   "metadata": {},
   "outputs": [
    {
     "name": "stdout",
     "output_type": "stream",
     "text": [
      "Train on 50000 samples, validate on 10000 samples\n",
      "Epoch 1/100\n",
      "50000/50000 [==============================] - 12s 245us/step - loss: 1.6612 - accuracy: 0.4128 - val_loss: 1.5239 - val_accuracy: 0.4595\n",
      "Epoch 2/100\n",
      "50000/50000 [==============================] - 11s 220us/step - loss: 1.4354 - accuracy: 0.4912 - val_loss: 1.4639 - val_accuracy: 0.4796\n",
      "Epoch 3/100\n",
      "50000/50000 [==============================] - 11s 219us/step - loss: 1.3194 - accuracy: 0.5362 - val_loss: 1.4033 - val_accuracy: 0.5102\n",
      "Epoch 4/100\n",
      "50000/50000 [==============================] - 11s 216us/step - loss: 1.2257 - accuracy: 0.5693 - val_loss: 1.3705 - val_accuracy: 0.5195\n",
      "Epoch 5/100\n",
      "50000/50000 [==============================] - 11s 224us/step - loss: 1.1388 - accuracy: 0.6004 - val_loss: 1.3826 - val_accuracy: 0.5213\n",
      "Epoch 6/100\n",
      "50000/50000 [==============================] - 11s 220us/step - loss: 1.0517 - accuracy: 0.6289 - val_loss: 1.3828 - val_accuracy: 0.5292\n",
      "Epoch 7/100\n",
      "50000/50000 [==============================] - 11s 219us/step - loss: 0.9756 - accuracy: 0.6572 - val_loss: 1.4024 - val_accuracy: 0.5329\n",
      "Epoch 8/100\n",
      "50000/50000 [==============================] - 11s 216us/step - loss: 0.8970 - accuracy: 0.6819 - val_loss: 1.4332 - val_accuracy: 0.5287\n",
      "Epoch 9/100\n",
      "50000/50000 [==============================] - 11s 218us/step - loss: 0.8290 - accuracy: 0.7108 - val_loss: 1.4751 - val_accuracy: 0.5340\n",
      "Epoch 10/100\n",
      "50000/50000 [==============================] - 12s 248us/step - loss: 0.7530 - accuracy: 0.7361 - val_loss: 1.5388 - val_accuracy: 0.5384\n",
      "Epoch 11/100\n",
      "50000/50000 [==============================] - 11s 225us/step - loss: 0.6863 - accuracy: 0.7588 - val_loss: 1.6070 - val_accuracy: 0.5310\n",
      "Epoch 12/100\n",
      "50000/50000 [==============================] - 11s 229us/step - loss: 0.6102 - accuracy: 0.7874 - val_loss: 1.6481 - val_accuracy: 0.5328\n",
      "Epoch 13/100\n",
      "50000/50000 [==============================] - 12s 233us/step - loss: 0.5584 - accuracy: 0.8026 - val_loss: 1.7461 - val_accuracy: 0.5254\n",
      "Epoch 14/100\n",
      "50000/50000 [==============================] - 12s 248us/step - loss: 0.5057 - accuracy: 0.8230 - val_loss: 1.8294 - val_accuracy: 0.5272\n",
      "Epoch 15/100\n",
      "50000/50000 [==============================] - 13s 250us/step - loss: 0.4389 - accuracy: 0.8458 - val_loss: 1.9658 - val_accuracy: 0.5326\n",
      "Epoch 16/100\n",
      "50000/50000 [==============================] - 12s 236us/step - loss: 0.4167 - accuracy: 0.8533 - val_loss: 2.0608 - val_accuracy: 0.5316\n",
      "Epoch 17/100\n",
      "50000/50000 [==============================] - 11s 221us/step - loss: 0.3693 - accuracy: 0.8705 - val_loss: 2.1376 - val_accuracy: 0.5190\n",
      "Epoch 18/100\n",
      "50000/50000 [==============================] - 13s 252us/step - loss: 0.3270 - accuracy: 0.8860 - val_loss: 2.2621 - val_accuracy: 0.5222\n",
      "Epoch 19/100\n",
      "50000/50000 [==============================] - 12s 234us/step - loss: 0.3056 - accuracy: 0.8937 - val_loss: 2.3930 - val_accuracy: 0.5185\n",
      "Epoch 20/100\n",
      "50000/50000 [==============================] - 11s 217us/step - loss: 0.2889 - accuracy: 0.9001 - val_loss: 2.5552 - val_accuracy: 0.5269\n",
      "Epoch 21/100\n",
      "50000/50000 [==============================] - 11s 229us/step - loss: 0.2620 - accuracy: 0.9087 - val_loss: 2.5738 - val_accuracy: 0.5247\n",
      "Epoch 22/100\n",
      "50000/50000 [==============================] - 12s 235us/step - loss: 0.2582 - accuracy: 0.9089 - val_loss: 2.7195 - val_accuracy: 0.5226\n",
      "Epoch 23/100\n",
      "50000/50000 [==============================] - 11s 222us/step - loss: 0.2419 - accuracy: 0.9167 - val_loss: 2.8152 - val_accuracy: 0.5150\n",
      "Epoch 24/100\n",
      "50000/50000 [==============================] - 11s 228us/step - loss: 0.2177 - accuracy: 0.9228 - val_loss: 2.8859 - val_accuracy: 0.5256\n",
      "Epoch 25/100\n",
      "50000/50000 [==============================] - 11s 230us/step - loss: 0.1856 - accuracy: 0.9355 - val_loss: 2.9219 - val_accuracy: 0.5189\n",
      "Epoch 26/100\n",
      "50000/50000 [==============================] - 12s 235us/step - loss: 0.1941 - accuracy: 0.9333 - val_loss: 3.0220 - val_accuracy: 0.5182\n",
      "Epoch 27/100\n",
      "50000/50000 [==============================] - 13s 251us/step - loss: 0.1866 - accuracy: 0.9345 - val_loss: 3.0806 - val_accuracy: 0.5204\n",
      "Epoch 28/100\n",
      "50000/50000 [==============================] - 12s 235us/step - loss: 0.2027 - accuracy: 0.9311 - val_loss: 3.1622 - val_accuracy: 0.5252\n",
      "Epoch 29/100\n",
      "50000/50000 [==============================] - 11s 225us/step - loss: 0.1523 - accuracy: 0.9460 - val_loss: 3.3213 - val_accuracy: 0.5188\n",
      "Epoch 30/100\n",
      "50000/50000 [==============================] - 10s 203us/step - loss: 0.1819 - accuracy: 0.9382 - val_loss: 3.3224 - val_accuracy: 0.5218\n",
      "Epoch 31/100\n",
      "43520/50000 [=========================>....] - ETA: 1s - loss: 0.1501 - accuracy: 0.9472"
     ]
    }
   ],
   "source": [
    "model.fit(x_train, y_train, \n",
    "          epochs=EPOCHS, \n",
    "          batch_size=BATCH_SIZE, \n",
    "          validation_data=(x_test, y_test), \n",
    "          shuffle=True)"
   ]
  },
  {
   "cell_type": "code",
   "execution_count": null,
   "metadata": {},
   "outputs": [],
   "source": [
    "import matplotlib.pyplot as plt\n",
    "\n",
    "\n",
    "train_loss = model.history.history[\"loss\"]\n",
    "valid_loss = model.history.history[\"val_loss\"]\n",
    "\n",
    "train_acc = model.history.history[\"acc\"]\n",
    "valid_acc = model.history.history[\"val_acc\"]\n",
    "\n",
    "plt.plot(range(len(train_loss)), train_loss, label=\"train loss\")\n",
    "plt.plot(range(len(valid_loss)), valid_loss, label=\"valid loss\")\n",
    "plt.legend()\n",
    "plt.title(\"Loss\")\n",
    "plt.show()\n",
    "\n",
    "plt.plot(range(len(train_acc)), train_acc, label=\"train accuracy\")\n",
    "plt.plot(range(len(valid_acc)), valid_acc, label=\"valid accuracy\")\n",
    "plt.legend()\n",
    "plt.title(\"Accuracy\")\n",
    "plt.show()"
   ]
  },
  {
   "cell_type": "code",
   "execution_count": null,
   "metadata": {},
   "outputs": [],
   "source": []
  }
 ],
 "metadata": {
  "kernelspec": {
   "display_name": "Python 3",
   "language": "python",
   "name": "python3"
  },
  "language_info": {
   "codemirror_mode": {
    "name": "ipython",
    "version": 3
   },
   "file_extension": ".py",
   "mimetype": "text/x-python",
   "name": "python",
   "nbconvert_exporter": "python",
   "pygments_lexer": "ipython3",
   "version": "3.7.4"
  }
 },
 "nbformat": 4,
 "nbformat_minor": 2
}
