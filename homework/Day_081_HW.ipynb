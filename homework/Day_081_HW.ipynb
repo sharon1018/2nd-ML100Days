{
 "cells": [
  {
   "cell_type": "markdown",
   "metadata": {},
   "source": [
    "## Work\n",
    "1. 請比較使用 l1, l1_l2 及不同比例下的訓練結果"
   ]
  },
  {
   "cell_type": "code",
   "execution_count": 1,
   "metadata": {},
   "outputs": [
    {
     "name": "stderr",
     "output_type": "stream",
     "text": [
      "Using TensorFlow backend.\n"
     ]
    }
   ],
   "source": [
    "import os\n",
    "import keras\n",
    "\n",
    "# Disable GPU\n",
    "os.environ[\"CUDA_VISIBLE_DEVICES\"] = \"\""
   ]
  },
  {
   "cell_type": "code",
   "execution_count": 2,
   "metadata": {},
   "outputs": [],
   "source": [
    "train, test = keras.datasets.cifar10.load_data()"
   ]
  },
  {
   "cell_type": "code",
   "execution_count": 3,
   "metadata": {},
   "outputs": [],
   "source": [
    "## 資料前處理\n",
    "def preproc_x(x, flatten=True):\n",
    "    x = x / 255.\n",
    "    if flatten:\n",
    "        x = x.reshape((len(x), -1))\n",
    "    return x\n",
    "\n",
    "def preproc_y(y, num_classes=10):\n",
    "    if y.shape[-1] == 1:\n",
    "        y = keras.utils.to_categorical(y, num_classes)\n",
    "    return y    "
   ]
  },
  {
   "cell_type": "code",
   "execution_count": 4,
   "metadata": {},
   "outputs": [],
   "source": [
    "x_train, y_train = train\n",
    "x_test, y_test = test\n",
    "\n",
    "# Preproc the inputs\n",
    "x_train = preproc_x(x_train)\n",
    "x_test = preproc_x(x_test)\n",
    "\n",
    "# Preprc the outputs\n",
    "y_train = preproc_y(y_train)\n",
    "y_test = preproc_y(y_test)"
   ]
  },
  {
   "cell_type": "code",
   "execution_count": 7,
   "metadata": {},
   "outputs": [],
   "source": [
    "from keras.regularizers import l1, l2, l1_l2\n",
    "\"\"\"\n",
    "keras.regularizers.l1(0.)\n",
    "keras.regularizers.l2(0.)\n",
    "keras.regularizers.l1_l2(l1=0.01, l2=0.01)\n",
    "\"\"\"\n",
    "\n",
    "\"\"\"\n",
    "建立神經網路，並加入 L1 或 L2\n",
    "\"\"\"\n",
    "def build_mlp(input_shape, output_units=10, num_neurons=[512, 256, 128], l1_ratio=0.2):\n",
    "    input_layer = keras.layers.Input(input_shape)\n",
    "    \n",
    "    for i, n_units in enumerate(num_neurons):\n",
    "        if i == 0:\n",
    "            x = keras.layers.Dense(units=n_units, \n",
    "                                   activation=\"relu\", \n",
    "                                   name=\"hidden_layer\"+str(i+1), \n",
    "                                   kernel_regularizer=l1(l1_ratio))(input_layer)\n",
    "        else:\n",
    "            x = keras.layers.Dense(units=n_units, \n",
    "                                   activation=\"relu\", \n",
    "                                   name=\"hidden_layer\"+str(i+1),\n",
    "                                   kernel_regularizer=l1(l1_ratio))(x)\n",
    "    \n",
    "    out = keras.layers.Dense(units=output_units, activation=\"softmax\", name=\"output\")(x)\n",
    "    \n",
    "    model = keras.models.Model(inputs=[input_layer], outputs=[out])\n",
    "    return model"
   ]
  },
  {
   "cell_type": "code",
   "execution_count": 11,
   "metadata": {},
   "outputs": [],
   "source": [
    "\"\"\"Code Here\n",
    "設定超參數\n",
    "\"\"\"\n",
    "LEARNING_RATE = 1e-3\n",
    "EPOCHS = 10\n",
    "BATCH_SIZE = 256\n",
    "MOMENTUM = 0.95\n",
    "L2_EXP = [1e-2, 1e-4, 1e-8, 1e-12]"
   ]
  },
  {
   "cell_type": "code",
   "execution_count": 12,
   "metadata": {
    "scrolled": true
   },
   "outputs": [
    {
     "name": "stdout",
     "output_type": "stream",
     "text": [
      "Experiment with Regulizer = 0.010000\n",
      "Model: \"model_1\"\n",
      "_________________________________________________________________\n",
      "Layer (type)                 Output Shape              Param #   \n",
      "=================================================================\n",
      "input_1 (InputLayer)         (None, 3072)              0         \n",
      "_________________________________________________________________\n",
      "hidden_layer1 (Dense)        (None, 512)               1573376   \n",
      "_________________________________________________________________\n",
      "hidden_layer2 (Dense)        (None, 256)               131328    \n",
      "_________________________________________________________________\n",
      "hidden_layer3 (Dense)        (None, 128)               32896     \n",
      "_________________________________________________________________\n",
      "output (Dense)               (None, 10)                1290      \n",
      "=================================================================\n",
      "Total params: 1,738,890\n",
      "Trainable params: 1,738,890\n",
      "Non-trainable params: 0\n",
      "_________________________________________________________________\n",
      "Train on 50000 samples, validate on 10000 samples\n",
      "Epoch 1/10\n",
      "50000/50000 [==============================] - 11s 214us/step - loss: 198.6658 - accuracy: 0.2308 - val_loss: 41.1240 - val_accuracy: 0.2467\n",
      "Epoch 2/10\n",
      "50000/50000 [==============================] - 11s 218us/step - loss: 19.0893 - accuracy: 0.1164 - val_loss: 7.2761 - val_accuracy: 0.1000\n",
      "Epoch 3/10\n",
      "50000/50000 [==============================] - 10s 201us/step - loss: 4.1138 - accuracy: 0.0992 - val_loss: 2.6496 - val_accuracy: 0.1000\n",
      "Epoch 4/10\n",
      "50000/50000 [==============================] - 10s 202us/step - loss: 2.4863 - accuracy: 0.0970 - val_loss: 2.4626 - val_accuracy: 0.1000\n",
      "Epoch 5/10\n",
      "50000/50000 [==============================] - 10s 209us/step - loss: 2.4626 - accuracy: 0.0969 - val_loss: 2.4626 - val_accuracy: 0.1000\n",
      "Epoch 6/10\n",
      "50000/50000 [==============================] - 11s 213us/step - loss: 2.4626 - accuracy: 0.0977 - val_loss: 2.4626 - val_accuracy: 0.1000\n",
      "Epoch 7/10\n",
      "50000/50000 [==============================] - 9s 180us/step - loss: 2.4626 - accuracy: 0.0959 - val_loss: 2.4625 - val_accuracy: 0.1000\n",
      "Epoch 8/10\n",
      "50000/50000 [==============================] - 10s 198us/step - loss: 2.4626 - accuracy: 0.0979 - val_loss: 2.4626 - val_accuracy: 0.1000\n",
      "Epoch 9/10\n",
      "50000/50000 [==============================] - 10s 198us/step - loss: 2.4626 - accuracy: 0.0987 - val_loss: 2.4625 - val_accuracy: 0.1000\n",
      "Epoch 10/10\n",
      "50000/50000 [==============================] - 10s 207us/step - loss: 2.4626 - accuracy: 0.0980 - val_loss: 2.4626 - val_accuracy: 0.1000\n",
      "Experiment with Regulizer = 0.000100\n",
      "Model: \"model_1\"\n",
      "_________________________________________________________________\n",
      "Layer (type)                 Output Shape              Param #   \n",
      "=================================================================\n",
      "input_1 (InputLayer)         (None, 3072)              0         \n",
      "_________________________________________________________________\n",
      "hidden_layer1 (Dense)        (None, 512)               1573376   \n",
      "_________________________________________________________________\n",
      "hidden_layer2 (Dense)        (None, 256)               131328    \n",
      "_________________________________________________________________\n",
      "hidden_layer3 (Dense)        (None, 128)               32896     \n",
      "_________________________________________________________________\n",
      "output (Dense)               (None, 10)                1290      \n",
      "=================================================================\n",
      "Total params: 1,738,890\n",
      "Trainable params: 1,738,890\n",
      "Non-trainable params: 0\n",
      "_________________________________________________________________\n",
      "Train on 50000 samples, validate on 10000 samples\n",
      "Epoch 1/10\n",
      "50000/50000 [==============================] - 11s 222us/step - loss: 5.9988 - accuracy: 0.2732 - val_loss: 5.8065 - val_accuracy: 0.3405\n",
      "Epoch 2/10\n",
      "50000/50000 [==============================] - 12s 238us/step - loss: 5.7175 - accuracy: 0.3633 - val_loss: 5.6411 - val_accuracy: 0.3829\n",
      "Epoch 3/10\n",
      "50000/50000 [==============================] - 11s 223us/step - loss: 5.5749 - accuracy: 0.3922 - val_loss: 5.5100 - val_accuracy: 0.4059\n",
      "Epoch 4/10\n",
      "50000/50000 [==============================] - 11s 229us/step - loss: 5.4526 - accuracy: 0.4162 - val_loss: 5.3996 - val_accuracy: 0.4212\n",
      "Epoch 5/10\n",
      "50000/50000 [==============================] - 10s 210us/step - loss: 5.3438 - accuracy: 0.4309 - val_loss: 5.3030 - val_accuracy: 0.4342\n",
      "Epoch 6/10\n",
      "50000/50000 [==============================] - 10s 201us/step - loss: 5.2417 - accuracy: 0.4442 - val_loss: 5.2021 - val_accuracy: 0.4484\n",
      "Epoch 7/10\n",
      "50000/50000 [==============================] - 9s 183us/step - loss: 5.1465 - accuracy: 0.4553 - val_loss: 5.1303 - val_accuracy: 0.4484\n",
      "Epoch 8/10\n",
      "50000/50000 [==============================] - 9s 183us/step - loss: 5.0542 - accuracy: 0.4676 - val_loss: 5.0357 - val_accuracy: 0.4543\n",
      "Epoch 9/10\n",
      "50000/50000 [==============================] - 10s 206us/step - loss: 4.9672 - accuracy: 0.4745 - val_loss: 4.9512 - val_accuracy: 0.4658\n",
      "Epoch 10/10\n",
      "50000/50000 [==============================] - 12s 232us/step - loss: 4.8812 - accuracy: 0.4854 - val_loss: 4.8871 - val_accuracy: 0.4690\n",
      "Experiment with Regulizer = 0.000000\n",
      "Model: \"model_1\"\n",
      "_________________________________________________________________\n",
      "Layer (type)                 Output Shape              Param #   \n",
      "=================================================================\n",
      "input_1 (InputLayer)         (None, 3072)              0         \n",
      "_________________________________________________________________\n",
      "hidden_layer1 (Dense)        (None, 512)               1573376   \n",
      "_________________________________________________________________\n",
      "hidden_layer2 (Dense)        (None, 256)               131328    \n",
      "_________________________________________________________________\n",
      "hidden_layer3 (Dense)        (None, 128)               32896     \n",
      "_________________________________________________________________\n",
      "output (Dense)               (None, 10)                1290      \n",
      "=================================================================\n",
      "Total params: 1,738,890\n",
      "Trainable params: 1,738,890\n",
      "Non-trainable params: 0\n",
      "_________________________________________________________________\n",
      "Train on 50000 samples, validate on 10000 samples\n",
      "Epoch 1/10\n",
      "50000/50000 [==============================] - 10s 190us/step - loss: 2.0390 - accuracy: 0.2713 - val_loss: 1.8766 - val_accuracy: 0.3455\n",
      "Epoch 2/10\n",
      "50000/50000 [==============================] - 10s 191us/step - loss: 1.8237 - accuracy: 0.3585 - val_loss: 1.7752 - val_accuracy: 0.3802\n",
      "Epoch 3/10\n",
      "50000/50000 [==============================] - 9s 181us/step - loss: 1.7417 - accuracy: 0.3897 - val_loss: 1.7042 - val_accuracy: 0.4028\n",
      "Epoch 4/10\n",
      "50000/50000 [==============================] - 10s 194us/step - loss: 1.6793 - accuracy: 0.4123 - val_loss: 1.6590 - val_accuracy: 0.4179\n",
      "Epoch 5/10\n",
      "50000/50000 [==============================] - 9s 189us/step - loss: 1.6305 - accuracy: 0.4291 - val_loss: 1.6155 - val_accuracy: 0.4231\n",
      "Epoch 6/10\n",
      "50000/50000 [==============================] - 9s 181us/step - loss: 1.5902 - accuracy: 0.4435 - val_loss: 1.5832 - val_accuracy: 0.4424\n",
      "Epoch 7/10\n",
      "50000/50000 [==============================] - 9s 179us/step - loss: 1.5564 - accuracy: 0.4537 - val_loss: 1.5579 - val_accuracy: 0.4515\n",
      "Epoch 8/10\n",
      "50000/50000 [==============================] - 11s 212us/step - loss: 1.5252 - accuracy: 0.4647 - val_loss: 1.5294 - val_accuracy: 0.4590\n",
      "Epoch 9/10\n",
      "50000/50000 [==============================] - 10s 195us/step - loss: 1.4965 - accuracy: 0.4742 - val_loss: 1.5044 - val_accuracy: 0.4683\n",
      "Epoch 10/10\n",
      "50000/50000 [==============================] - 10s 195us/step - loss: 1.4692 - accuracy: 0.4839 - val_loss: 1.4878 - val_accuracy: 0.4727\n",
      "Experiment with Regulizer = 0.000000\n",
      "Model: \"model_1\"\n",
      "_________________________________________________________________\n",
      "Layer (type)                 Output Shape              Param #   \n",
      "=================================================================\n",
      "input_1 (InputLayer)         (None, 3072)              0         \n",
      "_________________________________________________________________\n",
      "hidden_layer1 (Dense)        (None, 512)               1573376   \n",
      "_________________________________________________________________\n",
      "hidden_layer2 (Dense)        (None, 256)               131328    \n",
      "_________________________________________________________________\n",
      "hidden_layer3 (Dense)        (None, 128)               32896     \n",
      "_________________________________________________________________\n",
      "output (Dense)               (None, 10)                1290      \n",
      "=================================================================\n",
      "Total params: 1,738,890\n",
      "Trainable params: 1,738,890\n",
      "Non-trainable params: 0\n",
      "_________________________________________________________________\n"
     ]
    },
    {
     "name": "stdout",
     "output_type": "stream",
     "text": [
      "Train on 50000 samples, validate on 10000 samples\n",
      "Epoch 1/10\n",
      "50000/50000 [==============================] - 10s 207us/step - loss: 2.0433 - accuracy: 0.2640 - val_loss: 1.8937 - val_accuracy: 0.3248\n",
      "Epoch 2/10\n",
      "50000/50000 [==============================] - 11s 218us/step - loss: 1.8195 - accuracy: 0.3604 - val_loss: 1.7635 - val_accuracy: 0.3887\n",
      "Epoch 3/10\n",
      "50000/50000 [==============================] - 10s 204us/step - loss: 1.7274 - accuracy: 0.3966 - val_loss: 1.6946 - val_accuracy: 0.4131\n",
      "Epoch 4/10\n",
      "50000/50000 [==============================] - 11s 217us/step - loss: 1.6668 - accuracy: 0.4177 - val_loss: 1.6435 - val_accuracy: 0.4263\n",
      "Epoch 5/10\n",
      "50000/50000 [==============================] - 13s 252us/step - loss: 1.6192 - accuracy: 0.4310 - val_loss: 1.6009 - val_accuracy: 0.4424\n",
      "Epoch 6/10\n",
      "50000/50000 [==============================] - 10s 206us/step - loss: 1.5782 - accuracy: 0.4463 - val_loss: 1.5783 - val_accuracy: 0.4411\n",
      "Epoch 7/10\n",
      "50000/50000 [==============================] - 10s 210us/step - loss: 1.5443 - accuracy: 0.4597 - val_loss: 1.5410 - val_accuracy: 0.4606\n",
      "Epoch 8/10\n",
      "50000/50000 [==============================] - 10s 192us/step - loss: 1.5153 - accuracy: 0.4696 - val_loss: 1.5369 - val_accuracy: 0.4559\n",
      "Epoch 9/10\n",
      "50000/50000 [==============================] - 10s 196us/step - loss: 1.4896 - accuracy: 0.4764 - val_loss: 1.5033 - val_accuracy: 0.4702\n",
      "Epoch 10/10\n",
      "50000/50000 [==============================] - 9s 181us/step - loss: 1.4641 - accuracy: 0.4849 - val_loss: 1.4935 - val_accuracy: 0.4726\n"
     ]
    }
   ],
   "source": [
    "results = {}\n",
    "\"\"\"Code Here\n",
    "撰寫你的訓練流程並將結果用 dictionary 紀錄\n",
    "\"\"\"\n",
    "\n",
    "for regulizer_ratio in L2_EXP:\n",
    "    keras.backend.clear_session() # 把舊的 Graph 清掉\n",
    "    print(\"Experiment with Regulizer = %.6f\" % (regulizer_ratio))\n",
    "    model = build_mlp(input_shape=x_train.shape[1:], l1_ratio=regulizer_ratio)\n",
    "    model.summary()\n",
    "    optimizer = keras.optimizers.SGD(lr=LEARNING_RATE, nesterov=True, momentum=MOMENTUM)\n",
    "    model.compile(loss=\"categorical_crossentropy\", metrics=[\"accuracy\"], optimizer=optimizer)\n",
    "\n",
    "    model.fit(x_train, y_train, \n",
    "              epochs=EPOCHS, \n",
    "              batch_size=BATCH_SIZE, \n",
    "              validation_data=(x_test, y_test), \n",
    "              shuffle=True)\n",
    "    \n",
    "    # Collect results\n",
    "    train_loss = model.history.history[\"loss\"]\n",
    "    valid_loss = model.history.history[\"val_loss\"]\n",
    "    train_acc = model.history.history[\"accuracy\"]\n",
    "    valid_acc = model.history.history[\"val_accuracy\"]\n",
    "    \n",
    "    exp_name_tag = \"exp-l2-%s\" % str(regulizer_ratio)\n",
    "    results[exp_name_tag] = {'train-loss': train_loss,\n",
    "                             'valid-loss': valid_loss,\n",
    "                             'train-acc': train_acc,\n",
    "                             'valid-acc': valid_acc}\n"
   ]
  },
  {
   "cell_type": "code",
   "execution_count": 13,
   "metadata": {},
   "outputs": [
    {
     "data": {
      "image/png": "[encoded data removed]",
      "text/plain": [
       "<Figure size 576x432 with 1 Axes>"
      ]
     },
     "metadata": {
      "needs_background": "light"
     },
     "output_type": "display_data"
    },
    {
     "data": {
      "image/png": "[encoded data removed]",
      "text/plain": [
       "<Figure size 576x432 with 1 Axes>"
      ]
     },
     "metadata": {
      "needs_background": "light"
     },
     "output_type": "display_data"
    }
   ],
   "source": [
    "import matplotlib.pyplot as plt\n",
    "%matplotlib inline\n",
    "\"\"\"Code Here\n",
    "將結果繪出\n",
    "\"\"\"\n",
    "\n",
    "import matplotlib.pyplot as plt\n",
    "%matplotlib inline\n",
    "color_bar = [\"r\", \"g\", \"b\", \"y\", \"m\", \"k\"]\n",
    "\n",
    "plt.figure(figsize=(8,6))\n",
    "for i, cond in enumerate(results.keys()):\n",
    "    plt.plot(range(len(results[cond]['train-loss'])),results[cond]['train-loss'], '-', label=cond, color=color_bar[i])\n",
    "    plt.plot(range(len(results[cond]['valid-loss'])),results[cond]['valid-loss'], '--', label=cond, color=color_bar[i])\n",
    "plt.title(\"Loss\")\n",
    "plt.ylim([0, 5])\n",
    "plt.legend()\n",
    "plt.show()\n",
    "\n",
    "plt.figure(figsize=(8,6))\n",
    "for i, cond in enumerate(results.keys()):\n",
    "    plt.plot(range(len(results[cond]['train-acc'])),results[cond]['train-acc'], '-', label=cond, color=color_bar[i])\n",
    "    plt.plot(range(len(results[cond]['valid-acc'])),results[cond]['valid-acc'], '--', label=cond, color=color_bar[i])\n",
    "plt.title(\"Accuracy\")\n",
    "plt.legend()\n",
    "plt.show()"
   ]
  },
  {
   "cell_type": "code",
   "execution_count": null,
   "metadata": {},
   "outputs": [],
   "source": []
  }
 ],
 "metadata": {
  "kernelspec": {
   "display_name": "Python 3",
   "language": "python",
   "name": "python3"
  },
  "language_info": {
   "codemirror_mode": {
    "name": "ipython",
    "version": 3
   },
   "file_extension": ".py",
   "mimetype": "text/x-python",
   "name": "python",
   "nbconvert_exporter": "python",
   "pygments_lexer": "ipython3",
   "version": "3.7.4"
  }
 },
 "nbformat": 4,
 "nbformat_minor": 2
}
