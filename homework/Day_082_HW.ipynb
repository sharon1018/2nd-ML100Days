{
 "cells": [
  {
   "cell_type": "markdown",
   "metadata": {},
   "source": [
    "## Work\n",
    "1. 請比較使用不同層數以及不同 Dropout rate 對訓練的效果\n",
    "2. 將 optimizer 改成使用 Adam 並加上適當的 dropout rate 檢視結果"
   ]
  },
  {
   "cell_type": "code",
   "execution_count": 1,
   "metadata": {},
   "outputs": [
    {
     "name": "stderr",
     "output_type": "stream",
     "text": [
      "Using TensorFlow backend.\n"
     ]
    }
   ],
   "source": [
    "import os\n",
    "import keras\n",
    "import itertools\n",
    "# Disable GPU\n",
    "os.environ[\"CUDA_VISIBLE_DEVICES\"] = \"\""
   ]
  },
  {
   "cell_type": "code",
   "execution_count": 2,
   "metadata": {},
   "outputs": [],
   "source": [
    "train, test = keras.datasets.cifar10.load_data()"
   ]
  },
  {
   "cell_type": "code",
   "execution_count": 3,
   "metadata": {},
   "outputs": [],
   "source": [
    "## 資料前處理\n",
    "def preproc_x(x, flatten=True):\n",
    "    x = x / 255.\n",
    "    if flatten:\n",
    "        x = x.reshape((len(x), -1))\n",
    "    return x\n",
    "\n",
    "def preproc_y(y, num_classes=10):\n",
    "    if y.shape[-1] == 1:\n",
    "        y = keras.utils.to_categorical(y, num_classes)\n",
    "    return y    "
   ]
  },
  {
   "cell_type": "code",
   "execution_count": 4,
   "metadata": {},
   "outputs": [],
   "source": [
    "x_train, y_train = train\n",
    "x_test, y_test = test\n",
    "\n",
    "# Preproc the inputs\n",
    "x_train = preproc_x(x_train)\n",
    "x_test = preproc_x(x_test)\n",
    "\n",
    "# Preprc the outputs\n",
    "y_train = preproc_y(y_train)\n",
    "y_test = preproc_y(y_test)"
   ]
  },
  {
   "cell_type": "code",
   "execution_count": 5,
   "metadata": {},
   "outputs": [],
   "source": [
    "from keras.layers import Dropout\n",
    "\n",
    "\"\"\"\n",
    "建立神經網路，並加入 dropout layer\n",
    "\"\"\"\n",
    "def build_mlp(input_shape, output_units=10, num_neurons=[512, 256, 128], drp_ratio=0.3):\n",
    "    input_layer = keras.layers.Input(input_shape)\n",
    "    \n",
    "    for i, n_units in enumerate(num_neurons):\n",
    "        if i == 0:\n",
    "            x = keras.layers.Dense(units=n_units, \n",
    "                                   activation=\"relu\", \n",
    "                                   name=\"hidden_layer\"+str(i+1))(input_layer)\n",
    "            x = Dropout(drp_ratio)(x)\n",
    "        else:\n",
    "            x = keras.layers.Dense(units=n_units, \n",
    "                                   activation=\"relu\", \n",
    "                                   name=\"hidden_layer\"+str(i+1))(x)\n",
    "            x = Dropout(drp_ratio)(x)\n",
    "    \n",
    "    out = keras.layers.Dense(units=output_units, activation=\"softmax\", name=\"output\")(x)\n",
    "    \n",
    "    model = keras.models.Model(inputs=[input_layer], outputs=[out])\n",
    "    return model"
   ]
  },
  {
   "cell_type": "code",
   "execution_count": 6,
   "metadata": {},
   "outputs": [],
   "source": [
    "\"\"\"Code Here\n",
    "設定超參數\n",
    "\"\"\"\n",
    "LEARNING_RATE = 1e-3\n",
    "EPOCHS = 20\n",
    "BATCH_SIZE = 256\n",
    "MOMENTUM = 0.95\n",
    "Dropout_EXP = 0.25"
   ]
  },
  {
   "cell_type": "code",
   "execution_count": 14,
   "metadata": {
    "scrolled": true
   },
   "outputs": [
    {
     "name": "stdout",
     "output_type": "stream",
     "text": [
      "Model: \"model_8\"\n",
      "_________________________________________________________________\n",
      "Layer (type)                 Output Shape              Param #   \n",
      "=================================================================\n",
      "input_8 (InputLayer)         (None, 3072)              0         \n",
      "_________________________________________________________________\n",
      "hidden_layer1 (Dense)        (None, 512)               1573376   \n",
      "_________________________________________________________________\n",
      "dropout_22 (Dropout)         (None, 512)               0         \n",
      "_________________________________________________________________\n",
      "hidden_layer2 (Dense)        (None, 256)               131328    \n",
      "_________________________________________________________________\n",
      "dropout_23 (Dropout)         (None, 256)               0         \n",
      "_________________________________________________________________\n",
      "hidden_layer3 (Dense)        (None, 128)               32896     \n",
      "_________________________________________________________________\n",
      "dropout_24 (Dropout)         (None, 128)               0         \n",
      "_________________________________________________________________\n",
      "output (Dense)               (None, 10)                1290      \n",
      "=================================================================\n",
      "Total params: 1,738,890\n",
      "Trainable params: 1,738,890\n",
      "Non-trainable params: 0\n",
      "_________________________________________________________________\n",
      "Train on 50000 samples, validate on 10000 samples\n",
      "Epoch 1/20\n",
      "50000/50000 [==============================] - 12s 236us/step - loss: 2.0491 - accuracy: 0.2442 - val_loss: 1.8285 - val_accuracy: 0.3352\n",
      "Epoch 2/20\n",
      "50000/50000 [==============================] - 11s 229us/step - loss: 1.8812 - accuracy: 0.3183 - val_loss: 1.8130 - val_accuracy: 0.3525\n",
      "Epoch 3/20\n",
      "50000/50000 [==============================] - 10s 209us/step - loss: 1.8220 - accuracy: 0.3404 - val_loss: 1.7198 - val_accuracy: 0.3824\n",
      "Epoch 4/20\n",
      "50000/50000 [==============================] - 11s 210us/step - loss: 1.7825 - accuracy: 0.3536 - val_loss: 1.6904 - val_accuracy: 0.3930\n",
      "Epoch 5/20\n",
      "50000/50000 [==============================] - 10s 208us/step - loss: 1.7536 - accuracy: 0.3679 - val_loss: 1.6587 - val_accuracy: 0.4202\n",
      "Epoch 6/20\n",
      "50000/50000 [==============================] - 10s 207us/step - loss: 1.7302 - accuracy: 0.3755 - val_loss: 1.6531 - val_accuracy: 0.4109\n",
      "Epoch 7/20\n",
      "50000/50000 [==============================] - 11s 211us/step - loss: 1.7199 - accuracy: 0.3801 - val_loss: 1.6071 - val_accuracy: 0.4316\n",
      "Epoch 8/20\n",
      "50000/50000 [==============================] - 11s 224us/step - loss: 1.6961 - accuracy: 0.3861 - val_loss: 1.5927 - val_accuracy: 0.4316\n",
      "Epoch 9/20\n",
      "50000/50000 [==============================] - 12s 247us/step - loss: 1.6843 - accuracy: 0.3897 - val_loss: 1.6323 - val_accuracy: 0.4146\n",
      "Epoch 10/20\n",
      "50000/50000 [==============================] - 14s 276us/step - loss: 1.6721 - accuracy: 0.3957 - val_loss: 1.6016 - val_accuracy: 0.4380\n",
      "Epoch 11/20\n",
      "50000/50000 [==============================] - 12s 246us/step - loss: 1.6579 - accuracy: 0.4016 - val_loss: 1.5988 - val_accuracy: 0.4360\n",
      "Epoch 12/20\n",
      "50000/50000 [==============================] - 10s 206us/step - loss: 1.6431 - accuracy: 0.4061 - val_loss: 1.5616 - val_accuracy: 0.4504\n",
      "Epoch 13/20\n",
      "50000/50000 [==============================] - 10s 193us/step - loss: 1.6370 - accuracy: 0.4116 - val_loss: 1.5431 - val_accuracy: 0.4524\n",
      "Epoch 14/20\n",
      "50000/50000 [==============================] - 10s 190us/step - loss: 1.6279 - accuracy: 0.4136 - val_loss: 1.5530 - val_accuracy: 0.4564\n",
      "Epoch 15/20\n",
      "50000/50000 [==============================] - 9s 190us/step - loss: 1.6120 - accuracy: 0.4172 - val_loss: 1.5465 - val_accuracy: 0.4496\n",
      "Epoch 16/20\n",
      "50000/50000 [==============================] - 10s 190us/step - loss: 1.6134 - accuracy: 0.4178 - val_loss: 1.5285 - val_accuracy: 0.4667\n",
      "Epoch 17/20\n",
      "50000/50000 [==============================] - 9s 189us/step - loss: 1.6057 - accuracy: 0.4239 - val_loss: 1.5281 - val_accuracy: 0.4670\n",
      "Epoch 18/20\n",
      "50000/50000 [==============================] - 10s 193us/step - loss: 1.5935 - accuracy: 0.4281 - val_loss: 1.5398 - val_accuracy: 0.4581\n",
      "Epoch 19/20\n",
      "50000/50000 [==============================] - 10s 199us/step - loss: 1.5852 - accuracy: 0.4302 - val_loss: 1.5234 - val_accuracy: 0.4611\n",
      "Epoch 20/20\n",
      "50000/50000 [==============================] - 11s 220us/step - loss: 1.5809 - accuracy: 0.4302 - val_loss: 1.5362 - val_accuracy: 0.4560\n"
     ]
    }
   ],
   "source": [
    "results = {}\n",
    "\"\"\"Code Here\n",
    "撰寫你的訓練流程並將結果用 dictionary 紀錄\n",
    "\"\"\"\n",
    "\n",
    "model = build_mlp(input_shape=x_train.shape[1:], drp_ratio=Dropout_EXP)\n",
    "model.summary()\n",
    "optimizer = keras.optimizers.Adam(lr=0.001, beta_1=0.9, beta_2=0.999, decay=0.0, amsgrad=False)\n",
    "model.compile(loss=\"categorical_crossentropy\", metrics=[\"accuracy\"], optimizer=optimizer)\n",
    "\n",
    "model.fit(x_train, y_train, \n",
    "          epochs=EPOCHS, \n",
    "          batch_size=BATCH_SIZE, \n",
    "          validation_data=(x_test, y_test), \n",
    "          shuffle=True)\n",
    "\n",
    "# Collect results\n",
    "train_loss = model.history.history[\"loss\"]\n",
    "valid_loss = model.history.history[\"val_loss\"]\n",
    "train_acc = model.history.history[\"accuracy\"]\n",
    "valid_acc = model.history.history[\"val_accuracy\"]"
   ]
  },
  {
   "cell_type": "code",
   "execution_count": 15,
   "metadata": {},
   "outputs": [
    {
     "data": {
      "image/png": "[encoded data removed]",
      "text/plain": [
       "<Figure size 432x288 with 1 Axes>"
      ]
     },
     "metadata": {
      "needs_background": "light"
     },
     "output_type": "display_data"
    },
    {
     "data": {
      "image/png": "[encoded data removed]",
      "text/plain": [
       "<Figure size 432x288 with 1 Axes>"
      ]
     },
     "metadata": {
      "needs_background": "light"
     },
     "output_type": "display_data"
    }
   ],
   "source": [
    "import matplotlib.pyplot as plt\n",
    "%matplotlib inline\n",
    "\"\"\"Code Here\n",
    "將結果繪出\n",
    "\"\"\"\n",
    "\n",
    "plt.plot(range(len(train_loss)), train_loss, label=\"train loss\")\n",
    "plt.plot(range(len(valid_loss)), valid_loss, label=\"valid loss\")\n",
    "plt.legend()\n",
    "plt.title(\"Loss\")\n",
    "plt.show()\n",
    "\n",
    "plt.plot(range(len(train_acc)), train_acc, label=\"train accuracy\")\n",
    "plt.plot(range(len(valid_acc)), valid_acc, label=\"valid accuracy\")\n",
    "plt.legend()\n",
    "plt.title(\"Accuracy\")\n",
    "plt.show()"
   ]
  },
  {
   "cell_type": "code",
   "execution_count": null,
   "metadata": {},
   "outputs": [],
   "source": []
  }
 ],
 "metadata": {
  "kernelspec": {
   "display_name": "Python 3",
   "language": "python",
   "name": "python3"
  },
  "language_info": {
   "codemirror_mode": {
    "name": "ipython",
    "version": 3
   },
   "file_extension": ".py",
   "mimetype": "text/x-python",
   "name": "python",
   "nbconvert_exporter": "python",
   "pygments_lexer": "ipython3",
   "version": "3.7.4"
  }
 },
 "nbformat": 4,
 "nbformat_minor": 2
}
