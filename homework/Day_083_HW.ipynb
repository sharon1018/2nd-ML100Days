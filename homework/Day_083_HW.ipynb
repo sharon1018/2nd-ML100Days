{
 "cells": [
  {
   "cell_type": "markdown",
   "metadata": {},
   "source": [
    "## Work\n",
    "1. 試比較有 BN 在 Batch_size = 2, 16, 32, 128, 256 下的差異\n",
    "2. 請嘗試將 BN 放在 Activation 之前，並比較訓練結果\n",
    "3. 請於 BN 放在 Input Layer 後，並比較結果"
   ]
  },
  {
   "cell_type": "code",
   "execution_count": 1,
   "metadata": {},
   "outputs": [
    {
     "name": "stderr",
     "output_type": "stream",
     "text": [
      "Using TensorFlow backend.\n"
     ]
    }
   ],
   "source": [
    "import os\n",
    "import keras\n",
    "import itertools\n",
    "# Disable GPU\n",
    "os.environ[\"CUDA_VISIBLE_DEVICES\"] = \"\""
   ]
  },
  {
   "cell_type": "code",
   "execution_count": 2,
   "metadata": {},
   "outputs": [],
   "source": [
    "train, test = keras.datasets.cifar10.load_data()"
   ]
  },
  {
   "cell_type": "code",
   "execution_count": 3,
   "metadata": {},
   "outputs": [],
   "source": [
    "## 資料前處理\n",
    "def preproc_x(x, flatten=True):\n",
    "    x = x / 255.\n",
    "    if flatten:\n",
    "        x = x.reshape((len(x), -1))\n",
    "    return x\n",
    "\n",
    "def preproc_y(y, num_classes=10):\n",
    "    if y.shape[-1] == 1:\n",
    "        y = keras.utils.to_categorical(y, num_classes)\n",
    "    return y    "
   ]
  },
  {
   "cell_type": "code",
   "execution_count": 4,
   "metadata": {},
   "outputs": [],
   "source": [
    "x_train, y_train = train\n",
    "x_test, y_test = test\n",
    "\n",
    "# Preproc the inputs\n",
    "x_train = preproc_x(x_train)\n",
    "x_test = preproc_x(x_test)\n",
    "\n",
    "# Preprc the outputs\n",
    "y_train = preproc_y(y_train)\n",
    "y_test = preproc_y(y_test)"
   ]
  },
  {
   "cell_type": "code",
   "execution_count": 7,
   "metadata": {},
   "outputs": [],
   "source": [
    "from keras.layers import BatchNormalization\n",
    "\n",
    "\"\"\"\n",
    "建立神經網路，並加入 BN layer\n",
    "\"\"\"\n",
    "def build_mlp(input_shape, output_units=10, num_neurons=[512, 256, 128]):\n",
    "    input_layer = keras.layers.Input(input_shape)\n",
    "    \n",
    "    for i, n_units in enumerate(num_neurons):\n",
    "        if i == 0:\n",
    "            x = keras.layers.Dense(units=n_units, \n",
    "                                   activation=\"relu\", \n",
    "                                   name=\"hidden_layer\"+str(i+1))(input_layer)\n",
    "            x = BatchNormalization()(x)\n",
    "        else:\n",
    "            x = BatchNormalization()(x)\n",
    "            x = keras.layers.Dense(units=n_units, \n",
    "                                   activation=\"relu\", \n",
    "                                   name=\"hidden_layer\"+str(i+1))(x)\n",
    "            \n",
    "    \n",
    "    out = keras.layers.Dense(units=output_units, activation=\"softmax\", name=\"output\")(x)\n",
    "    \n",
    "    model = keras.models.Model(inputs=[input_layer], outputs=[out])\n",
    "    return model"
   ]
  },
  {
   "cell_type": "code",
   "execution_count": 8,
   "metadata": {},
   "outputs": [],
   "source": [
    "\"\"\"Code Here\n",
    "設定超參數\n",
    "\"\"\"\n",
    "\n",
    "## 超參數設定\n",
    "LEARNING_RATE = 1e-3\n",
    "EPOCHS = 20\n",
    "BATCH_SIZE = 1024\n",
    "MOMENTUM = 0.95"
   ]
  },
  {
   "cell_type": "code",
   "execution_count": 9,
   "metadata": {
    "scrolled": true
   },
   "outputs": [
    {
     "name": "stdout",
     "output_type": "stream",
     "text": [
      "Model: \"model_1\"\n",
      "_________________________________________________________________\n",
      "Layer (type)                 Output Shape              Param #   \n",
      "=================================================================\n",
      "input_1 (InputLayer)         (None, 3072)              0         \n",
      "_________________________________________________________________\n",
      "hidden_layer1 (Dense)        (None, 512)               1573376   \n",
      "_________________________________________________________________\n",
      "batch_normalization_1 (Batch (None, 512)               2048      \n",
      "_________________________________________________________________\n",
      "batch_normalization_2 (Batch (None, 512)               2048      \n",
      "_________________________________________________________________\n",
      "hidden_layer2 (Dense)        (None, 256)               131328    \n",
      "_________________________________________________________________\n",
      "batch_normalization_3 (Batch (None, 256)               1024      \n",
      "_________________________________________________________________\n",
      "hidden_layer3 (Dense)        (None, 128)               32896     \n",
      "_________________________________________________________________\n",
      "output (Dense)               (None, 10)                1290      \n",
      "=================================================================\n",
      "Total params: 1,744,010\n",
      "Trainable params: 1,741,450\n",
      "Non-trainable params: 2,560\n",
      "_________________________________________________________________\n",
      "Train on 50000 samples, validate on 10000 samples\n",
      "Epoch 1/20\n",
      "50000/50000 [==============================] - 9s 185us/step - loss: 2.1765 - accuracy: 0.2489 - val_loss: 2.1298 - val_accuracy: 0.2176\n",
      "Epoch 2/20\n",
      "50000/50000 [==============================] - 8s 155us/step - loss: 1.7609 - accuracy: 0.3815 - val_loss: 1.9485 - val_accuracy: 0.3177\n",
      "Epoch 3/20\n",
      "50000/50000 [==============================] - 8s 158us/step - loss: 1.6407 - accuracy: 0.4238 - val_loss: 1.8363 - val_accuracy: 0.3710\n",
      "Epoch 4/20\n",
      "50000/50000 [==============================] - 8s 168us/step - loss: 1.5685 - accuracy: 0.4504 - val_loss: 1.7308 - val_accuracy: 0.4049\n",
      "Epoch 5/20\n",
      "50000/50000 [==============================] - 8s 169us/step - loss: 1.5129 - accuracy: 0.4697 - val_loss: 1.6722 - val_accuracy: 0.4214\n",
      "Epoch 6/20\n",
      "50000/50000 [==============================] - 9s 183us/step - loss: 1.4677 - accuracy: 0.4848 - val_loss: 1.6098 - val_accuracy: 0.4406\n",
      "Epoch 7/20\n",
      "50000/50000 [==============================] - 8s 152us/step - loss: 1.4289 - accuracy: 0.5011 - val_loss: 1.5692 - val_accuracy: 0.4506\n",
      "Epoch 8/20\n",
      "50000/50000 [==============================] - 7s 141us/step - loss: 1.3948 - accuracy: 0.5122 - val_loss: 1.5335 - val_accuracy: 0.4599\n",
      "Epoch 9/20\n",
      "50000/50000 [==============================] - 7s 135us/step - loss: 1.3642 - accuracy: 0.5259 - val_loss: 1.5042 - val_accuracy: 0.4731\n",
      "Epoch 10/20\n",
      "50000/50000 [==============================] - 7s 140us/step - loss: 1.3369 - accuracy: 0.5366 - val_loss: 1.4963 - val_accuracy: 0.4722\n",
      "Epoch 11/20\n",
      "50000/50000 [==============================] - 7s 141us/step - loss: 1.3107 - accuracy: 0.5440 - val_loss: 1.4803 - val_accuracy: 0.4788\n",
      "Epoch 12/20\n",
      "50000/50000 [==============================] - 7s 138us/step - loss: 1.2867 - accuracy: 0.5546 - val_loss: 1.4725 - val_accuracy: 0.4773\n",
      "Epoch 13/20\n",
      "50000/50000 [==============================] - 7s 138us/step - loss: 1.2634 - accuracy: 0.5635 - val_loss: 1.4756 - val_accuracy: 0.4795\n",
      "Epoch 14/20\n",
      "50000/50000 [==============================] - 7s 138us/step - loss: 1.2398 - accuracy: 0.5707 - val_loss: 1.4729 - val_accuracy: 0.4776\n",
      "Epoch 15/20\n",
      "50000/50000 [==============================] - 7s 139us/step - loss: 1.2171 - accuracy: 0.5796 - val_loss: 1.4548 - val_accuracy: 0.4882\n",
      "Epoch 16/20\n",
      "50000/50000 [==============================] - 7s 138us/step - loss: 1.1954 - accuracy: 0.5878 - val_loss: 1.4511 - val_accuracy: 0.4914\n",
      "Epoch 17/20\n",
      "50000/50000 [==============================] - 7s 138us/step - loss: 1.1761 - accuracy: 0.5950 - val_loss: 1.4427 - val_accuracy: 0.4916\n",
      "Epoch 18/20\n",
      "50000/50000 [==============================] - 7s 138us/step - loss: 1.1560 - accuracy: 0.6035 - val_loss: 1.4446 - val_accuracy: 0.4899\n",
      "Epoch 19/20\n",
      "50000/50000 [==============================] - 7s 148us/step - loss: 1.1357 - accuracy: 0.6095 - val_loss: 1.4439 - val_accuracy: 0.4922\n",
      "Epoch 20/20\n",
      "50000/50000 [==============================] - 8s 160us/step - loss: 1.1172 - accuracy: 0.6165 - val_loss: 1.4466 - val_accuracy: 0.4935\n"
     ]
    }
   ],
   "source": [
    "results = {}\n",
    "\"\"\"Code Here\n",
    "撰寫你的訓練流程並將結果用 dictionary 紀錄\n",
    "\"\"\"\n",
    "\n",
    "model = build_mlp(input_shape=x_train.shape[1:])\n",
    "model.summary()\n",
    "optimizer = keras.optimizers.SGD(lr=LEARNING_RATE, nesterov=True, momentum=MOMENTUM)\n",
    "model.compile(loss=\"categorical_crossentropy\", metrics=[\"accuracy\"], optimizer=optimizer)\n",
    "\n",
    "model.fit(x_train, y_train, \n",
    "          epochs=EPOCHS, \n",
    "          batch_size=BATCH_SIZE, \n",
    "          validation_data=(x_test, y_test), \n",
    "          shuffle=True)\n",
    "\n",
    "# Collect results\n",
    "train_loss = model.history.history[\"loss\"]\n",
    "valid_loss = model.history.history[\"val_loss\"]\n",
    "train_acc = model.history.history[\"accuracy\"]\n",
    "valid_acc = model.history.history[\"val_accuracy\"]"
   ]
  },
  {
   "cell_type": "code",
   "execution_count": null,
   "metadata": {},
   "outputs": [],
   "source": [
    "import matplotlib.pyplot as plt\n",
    "%matplotlib inline\n",
    "\"\"\"Code Here\n",
    "將結果繪出\n",
    "\"\"\""
   ]
  }
 ],
 "metadata": {
  "kernelspec": {
   "display_name": "Python 3",
   "language": "python",
   "name": "python3"
  },
  "language_info": {
   "codemirror_mode": {
    "name": "ipython",
    "version": 3
   },
   "file_extension": ".py",
   "mimetype": "text/x-python",
   "name": "python",
   "nbconvert_exporter": "python",
   "pygments_lexer": "ipython3",
   "version": "3.7.4"
  }
 },
 "nbformat": 4,
 "nbformat_minor": 2
}
